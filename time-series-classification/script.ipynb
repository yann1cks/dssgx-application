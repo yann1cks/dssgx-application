{
 "cells": [
  {
   "attachments": {},
   "cell_type": "markdown",
   "metadata": {},
   "source": [
    "# Time series classification for fault detection in thermoforming machines"
   ]
  },
  {
   "attachments": {},
   "cell_type": "markdown",
   "metadata": {},
   "source": [
    "<font color=red>This project was part of a university seminar in cooperation with an industry partner. The data is confidential and I am not allowed to share it. I left sample data for every group, so you are able to follow the code.</font>\n",
    "\n",
    "***"
   ]
  },
  {
   "attachments": {},
   "cell_type": "markdown",
   "metadata": {},
   "source": [
    "## Thermoforming example\n",
    "![Thermoforming](https://pri-plastics.com/wp-content/uploads/2020/06/Thermoforming-Process.jpg)\n",
    "\n",
    "## Task description\n",
    "The aim of this project is \"inline\" detection of incomplete molded products (e. g. of yoghurt cups) based on the pressure curve. The aim is not *early time series classification*, because the molding a product only take a short amount of time and cannot be interrupted.\n",
    "\n",
    "The data gathered during an experiment and contains measurements from different sensors. Only the pressure sensor data should be used.The sensor has a sampling rate of 1ms. \n",
    "\n",
    "Four different classes of outcomes were present:\n",
    "1. Group A - not formed *(Ger.: Gruppe A - nicht ausgeformt)*\n",
    "2. Group B - without bottom *(Ger.: Gruppe B - ohne Boden)*\n",
    "3. Group B - incomplete bottom *(Ger.: Gruppe B - Boden berührt)*\n",
    "4. Group A - formed *(Ger.: Gruppe A - ausgeformt)*\n",
    "\n",
    "The class **not formed** means that the foil was not heated and therefore not formed. \n",
    "\n",
    "The class **formed** means that there is a complete mapping of the outer shape contour of the molded part.\n",
    "\n",
    "The class **without bottom** denotes molded parts which have been formed but have not reached the bottom of the mold. Therefore they are  incompletely formed.\n",
    "\n",
    "The class **incomplete bottom** also designates incompletely formed molded parts, but the bottom of the molded part has been reached. However, the molding does not extend completely into the mold.\n",
    "\n",
    "So the only desirable outcome is correctly **formed** product. The other three classes represent faults of different severity. In the above the classes are sorted by severity."
   ]
  },
  {
   "attachments": {},
   "cell_type": "markdown",
   "metadata": {},
   "source": [
    "## Setup"
   ]
  },
  {
   "attachments": {},
   "cell_type": "markdown",
   "metadata": {},
   "source": [
    "### virtual enviroment and packages\n",
    "Use OS level shell to setup the enviroment. Setup in the correct folder!\n",
    "Please use python 3.10. Package sktime does not work with 3.11 at the moment."
   ]
  },
  {
   "cell_type": "code",
   "execution_count": 2,
   "metadata": {},
   "outputs": [],
   "source": [
    "# Guide: How to use virtual env with jupyter: https://codemuch.net/posts/vscode_jupyter_notebook/\n",
    "# pip install virtualenv\n",
    "# python -m virtualenv rocket\n",
    "# rocket\\Scripts\\activate\n",
    "# pip install ipykernel \n",
    "# python -m ipykernel install --user --name=rocket"
   ]
  },
  {
   "cell_type": "code",
   "execution_count": 3,
   "metadata": {},
   "outputs": [],
   "source": [
    "#pip install pandas numpy matplotlib tensorflow sktime[all_extras] keras attrs"
   ]
  },
  {
   "attachments": {},
   "cell_type": "markdown",
   "metadata": {},
   "source": [
    "### install packages\n",
    "importing Rocket may take some time during the first import"
   ]
  },
  {
   "cell_type": "code",
   "execution_count": 28,
   "metadata": {},
   "outputs": [],
   "source": [
    "import pandas as pd\n",
    "import numpy as np\n",
    "import glob\n",
    "import os\n",
    "from datetime import datetime\n",
    "import matplotlib.pyplot as plt\n",
    "\n",
    "from sklearn.model_selection import GroupShuffleSplit\n",
    "from sklearn.preprocessing import StandardScaler\n",
    "from sklearn.preprocessing import MinMaxScaler\n",
    "from sklearn.linear_model import RidgeClassifierCV\n",
    "from sklearn.metrics import classification_report,accuracy_score,precision_score,recall_score,plot_confusion_matrix\n",
    "from sklearn.dummy import DummyClassifier\n",
    "\n",
    "from sktime.transformations.panel.rocket import Rocket\n",
    "from sktime.transformations.panel.rocket import MiniRocket\n",
    "from sktime.datatypes._panel._convert import (from_3d_numpy_to_nested)\n",
    "\n",
    "#import tensorflow as tf\n",
    "from tensorflow import keras\n",
    "from tensorflow.keras import layers\n"
   ]
  },
  {
   "cell_type": "code",
   "execution_count": 3,
   "metadata": {},
   "outputs": [],
   "source": [
    "# Set random seed\n",
    "seed = 9999\n",
    "np.random.seed(seed)\n",
    "\n",
    "# Suppress scientific notation\n",
    "np.set_printoptions(suppress = True)\n"
   ]
  },
  {
   "attachments": {},
   "cell_type": "markdown",
   "metadata": {},
   "source": [
    "## Pre-Processing\n",
    "\n",
    "### Read files from different directories"
   ]
  },
  {
   "cell_type": "code",
   "execution_count": 4,
   "metadata": {},
   "outputs": [],
   "source": [
    "li = []\n",
    "\n",
    "# Gruppe A - Zustand ausgeformt\n",
    "path = \"./data/Gruppe A/Zustand ausgeformt\" \n",
    "all_files = glob.glob(path + \"/*.csv\")\n",
    "\n",
    "for filename in all_files:\n",
    "    df = pd.read_csv(filename, encoding=\"latin-1\", sep=\";\", header=0, usecols=[0,5], index_col=None)\n",
    "    df[\"Group\"] = \"A - ausgeformt\"\n",
    "    df[\"ID\"] = os.path.basename(filename) \n",
    "    li.append(df)\n",
    "   \n",
    "# Gruppe A - Zustand nicht ausgeformt\n",
    "path = \"./data/Gruppe A/Zustand nicht ausgeformt\" \n",
    "all_files = glob.glob(path + \"/*.csv\")\n",
    "\n",
    "for filename in all_files:\n",
    "    df = pd.read_csv(filename, encoding=\"latin-1\", sep=\";\", header=0, usecols=[0,5], index_col=None)\n",
    "    df[\"Group\"] = \"A - nicht ausgeformt\"\n",
    "    df[\"ID\"] = os.path.basename(filename)\n",
    "    li.append(df)\n",
    "\n",
    "# Gruppe B - ohne Boden \n",
    "path = \"./data/Gruppe B/nicht vollst ausgeformt - ohne Boden\" \n",
    "all_files = glob.glob(path + \"/*.csv\")\n",
    "\n",
    "for filename in all_files:\n",
    "    df = pd.read_csv(filename, encoding=\"latin-1\", sep=\";\", header=0, usecols=[0,5], index_col=None)\n",
    "    df[\"Group\"] = \"B - ohne Boden\"\n",
    "    df[\"ID\"] = os.path.basename(filename)\n",
    "    li.append(df)\n",
    "\n",
    "# Gruppe B - Boden berührt \n",
    "path = \"./data/Gruppe B/nicht vollst ausgeformt - Boden berührt\" \n",
    "all_files = glob.glob(path + \"/*.csv\")\n",
    "\n",
    "for filename in all_files:\n",
    "    df = pd.read_csv(filename, encoding=\"latin-1\", sep=\";\", header=0, usecols=[0,5], index_col=None)\n",
    "    df[\"Group\"] = \"B - Boden berührt\"\n",
    "    df[\"ID\"] = os.path.basename(filename)\n",
    "    li.append(df)"
   ]
  },
  {
   "attachments": {},
   "cell_type": "markdown",
   "metadata": {},
   "source": [
    "### transform data"
   ]
  },
  {
   "cell_type": "code",
   "execution_count": 5,
   "metadata": {},
   "outputs": [],
   "source": [
    "# Create the complete data frame\n",
    "df = pd.concat(li, axis=0, ignore_index=True)\n",
    "\n",
    "# Add headers\n",
    "df[\"ID\"] = df[\"ID\"].str.slice(5,8).astype(\"int\")\n",
    "df.columns = df.columns.str.replace(\"Unnamed: 0\", \"timestamp\")\n",
    "\n",
    "# Transform the timestamp\n",
    "df[\"timestamp\"] = df[\"timestamp\"].astype(\"str\")\n",
    "df.loc[~df[\"timestamp\"].str.contains(pat = \"\\.\"),\"timestamp\"] = df[\"timestamp\"] + \".000000\"\n",
    "df[\"timestamp\"] = pd.to_datetime(df[\"timestamp\"], format=\"%H:%M:%S.%f\")\n",
    "\n",
    "# Transform the timestamp to seconds since start\n",
    "seconds = df.groupby(\"ID\").apply(lambda x: x.timestamp - x.iloc[0,0]).to_frame(name = \"seconds\")\n",
    "seconds = seconds.reset_index()\n",
    "seconds = seconds.set_index(\"level_1\") \n",
    "\n",
    "# Merge dataframes\n",
    "merged = df.join(seconds, how=\"left\", lsuffix=\"_left\", rsuffix=\"_right\")\n",
    "merged = merged.drop([\"timestamp\", \"ID_right\"], axis=1) \n",
    "merged.rename(columns={\"seconds\": \"timestamp\", \"ID_left\": \"id\", \"Group\": \"group\", \"Druck Formwerkzeug\": \"pressure\"}, inplace=True)\n",
    "merged[\"timestamp\"] = merged[\"timestamp\"].dt.total_seconds() \n",
    "\n",
    "# Sort the columns and transform the group variables\n",
    "merged = merged[[\"id\", \"group\", \"timestamp\", \"pressure\"]]\n",
    "merged[\"group\"] = merged[\"group\"].replace({\"A - ausgeformt\": 0, \"A - nicht ausgeformt\": 1,\"B - ohne Boden\": 2,\"B - Boden berührt\": 3})\n",
    "merged[\"group\"] = merged[\"group\"].astype(\"int32\")\n",
    "\n",
    "# Rename merged to df\n",
    "df = merged\n",
    "\n",
    "# Set id as index\n",
    "#df.set_index(\"id\", inplace = True)"
   ]
  },
  {
   "cell_type": "code",
   "execution_count": 6,
   "metadata": {},
   "outputs": [
    {
     "data": {
      "text/html": [
       "<div>\n",
       "<style scoped>\n",
       "    .dataframe tbody tr th:only-of-type {\n",
       "        vertical-align: middle;\n",
       "    }\n",
       "\n",
       "    .dataframe tbody tr th {\n",
       "        vertical-align: top;\n",
       "    }\n",
       "\n",
       "    .dataframe thead th {\n",
       "        text-align: right;\n",
       "    }\n",
       "</style>\n",
       "<table border=\"1\" class=\"dataframe\">\n",
       "  <thead>\n",
       "    <tr style=\"text-align: right;\">\n",
       "      <th></th>\n",
       "      <th>id</th>\n",
       "      <th>group</th>\n",
       "      <th>timestamp</th>\n",
       "      <th>pressure</th>\n",
       "    </tr>\n",
       "  </thead>\n",
       "  <tbody>\n",
       "    <tr>\n",
       "      <th>0</th>\n",
       "      <td>2</td>\n",
       "      <td>0</td>\n",
       "      <td>0.000</td>\n",
       "      <td>0.0</td>\n",
       "    </tr>\n",
       "    <tr>\n",
       "      <th>1</th>\n",
       "      <td>2</td>\n",
       "      <td>0</td>\n",
       "      <td>2.657</td>\n",
       "      <td>0.0</td>\n",
       "    </tr>\n",
       "    <tr>\n",
       "      <th>2</th>\n",
       "      <td>2</td>\n",
       "      <td>0</td>\n",
       "      <td>3.353</td>\n",
       "      <td>0.0</td>\n",
       "    </tr>\n",
       "    <tr>\n",
       "      <th>3</th>\n",
       "      <td>2</td>\n",
       "      <td>0</td>\n",
       "      <td>4.022</td>\n",
       "      <td>0.0</td>\n",
       "    </tr>\n",
       "    <tr>\n",
       "      <th>4</th>\n",
       "      <td>2</td>\n",
       "      <td>0</td>\n",
       "      <td>4.023</td>\n",
       "      <td>0.0</td>\n",
       "    </tr>\n",
       "  </tbody>\n",
       "</table>\n",
       "</div>"
      ],
      "text/plain": [
       "   id  group  timestamp  pressure\n",
       "0   2      0      0.000       0.0\n",
       "1   2      0      2.657       0.0\n",
       "2   2      0      3.353       0.0\n",
       "3   2      0      4.022       0.0\n",
       "4   2      0      4.023       0.0"
      ]
     },
     "execution_count": 6,
     "metadata": {},
     "output_type": "execute_result"
    }
   ],
   "source": [
    "df.head()"
   ]
  },
  {
   "attachments": {},
   "cell_type": "markdown",
   "metadata": {},
   "source": [
    "group classifications:\n",
    "\"A - ausgeformt\": 0, \n",
    "\"A - nicht ausgeformt\": 1,\n",
    "\"B - ohne Boden\": 2,\n",
    "\"B - Boden berührt\": 3"
   ]
  },
  {
   "attachments": {},
   "cell_type": "markdown",
   "metadata": {},
   "source": [
    "## explore data\n",
    "\n",
    "Get number of cases per group and check if id numbers are continuous."
   ]
  },
  {
   "cell_type": "code",
   "execution_count": 10,
   "metadata": {},
   "outputs": [
    {
     "data": {
      "text/plain": [
       "group\n",
       "0    50\n",
       "1    50\n",
       "2    53\n",
       "3    55\n",
       "Name: id, dtype: int64"
      ]
     },
     "execution_count": 10,
     "metadata": {},
     "output_type": "execute_result"
    }
   ],
   "source": [
    "df.groupby(\"group\")['id'].nunique()"
   ]
  },
  {
   "cell_type": "code",
   "execution_count": 11,
   "metadata": {},
   "outputs": [
    {
     "data": {
      "text/plain": [
       "[array([ 2,  3,  4,  5,  6,  7,  8,  9, 10, 11, 12, 13, 14, 15, 16, 17, 18,\n",
       "        19, 20, 21, 22, 23, 24, 25, 26, 27, 28, 29, 30, 31, 32, 33, 34, 35,\n",
       "        36, 37, 38, 39, 40, 41, 42, 43, 44, 45, 46, 47, 48, 49, 50, 51]),\n",
       " array([ 52,  53,  54,  55,  56,  57,  58,  59,  60,  61,  62,  63,  64,\n",
       "         65,  66,  67,  68,  69,  70,  71,  72,  73,  74,  75,  76,  77,\n",
       "         78,  79,  80,  81,  82,  83,  84,  85,  86,  87,  88,  89,  90,\n",
       "         91,  92,  93,  94,  95,  96,  97,  98,  99, 100, 101]),\n",
       " array([160, 161, 162, 163, 164, 181, 182, 183, 184, 185, 186, 187, 188,\n",
       "        189, 190, 191, 192, 193, 194, 195, 198, 199, 200, 201, 202, 203,\n",
       "        204, 205, 206, 207, 208, 209, 210, 211, 212, 213, 214, 215, 216,\n",
       "        217, 218, 219, 220, 221, 222, 223, 224, 225, 226, 227, 228, 229,\n",
       "        230]),\n",
       " array([123, 124, 125, 126, 127, 128, 129, 130, 131, 132, 133, 134, 135,\n",
       "        136, 137, 138, 139, 140, 141, 142, 143, 144, 145, 146, 147, 148,\n",
       "        149, 150, 151, 152, 153, 154, 155, 156, 157, 158, 159, 165, 166,\n",
       "        167, 168, 169, 170, 171, 172, 173, 174, 175, 176, 177, 178, 179,\n",
       "        180, 196, 197])]"
      ]
     },
     "execution_count": 11,
     "metadata": {},
     "output_type": "execute_result"
    }
   ],
   "source": [
    "df.groupby(\"group\")[\"id\"].unique().tolist()"
   ]
  },
  {
   "attachments": {},
   "cell_type": "markdown",
   "metadata": {},
   "source": [
    "Get descriptive statistics for pressure and time"
   ]
  },
  {
   "cell_type": "code",
   "execution_count": 12,
   "metadata": {},
   "outputs": [
    {
     "name": "stdout",
     "output_type": "stream",
     "text": [
      "  group pressure                                \n",
      "           count      mean  min    max       var\n",
      "0     0   992021  0.958494  0.0  4.055  2.866661\n",
      "1     1   958011  0.982507  0.0  4.058  2.910611\n",
      "2     2  1057115  0.496213  0.0  5.131  1.169040\n",
      "3     3  1098035  0.413723  0.0  4.012  0.657878\n",
      "  group timestamp                                   \n",
      "            count       mean  min     max        var\n",
      "0     0    992021  13.394717  0.0  28.242  47.211269\n",
      "1     1    958011  13.371684  0.0  28.216  47.587362\n",
      "2     2   1057115  13.588879  0.0  28.574  47.836732\n",
      "3     3   1098035  13.614217  0.0  28.505  47.747872\n"
     ]
    }
   ],
   "source": [
    "pressure = df.groupby([\"group\"]).agg({\"pressure\": [\"count\", \"mean\", \"min\", \"max\", \"var\"]}).reset_index()\n",
    "time = df.groupby([\"group\"]).agg({\"timestamp\": [\"count\",\"mean\", \"min\", \"max\", \"var\"]}).reset_index()\n",
    "\n",
    "print(pressure)\n",
    "print(time)"
   ]
  },
  {
   "attachments": {},
   "cell_type": "markdown",
   "metadata": {},
   "source": [
    "Check length of time series data, because equal length time series are needed."
   ]
  },
  {
   "cell_type": "code",
   "execution_count": 13,
   "metadata": {},
   "outputs": [
    {
     "data": {
      "text/html": [
       "<div>\n",
       "<style scoped>\n",
       "    .dataframe tbody tr th:only-of-type {\n",
       "        vertical-align: middle;\n",
       "    }\n",
       "\n",
       "    .dataframe tbody tr th {\n",
       "        vertical-align: top;\n",
       "    }\n",
       "\n",
       "    .dataframe thead tr th {\n",
       "        text-align: left;\n",
       "    }\n",
       "\n",
       "    .dataframe thead tr:last-of-type th {\n",
       "        text-align: right;\n",
       "    }\n",
       "</style>\n",
       "<table border=\"1\" class=\"dataframe\">\n",
       "  <thead>\n",
       "    <tr>\n",
       "      <th></th>\n",
       "      <th colspan=\"4\" halign=\"left\">id</th>\n",
       "    </tr>\n",
       "    <tr>\n",
       "      <th></th>\n",
       "      <th>median</th>\n",
       "      <th>mean</th>\n",
       "      <th>min</th>\n",
       "      <th>max</th>\n",
       "    </tr>\n",
       "    <tr>\n",
       "      <th>group</th>\n",
       "      <th></th>\n",
       "      <th></th>\n",
       "      <th></th>\n",
       "      <th></th>\n",
       "    </tr>\n",
       "  </thead>\n",
       "  <tbody>\n",
       "    <tr>\n",
       "      <th>0</th>\n",
       "      <td>20016.0</td>\n",
       "      <td>19840.420000</td>\n",
       "      <td>18514</td>\n",
       "      <td>20017</td>\n",
       "    </tr>\n",
       "    <tr>\n",
       "      <th>1</th>\n",
       "      <td>18515.0</td>\n",
       "      <td>19160.220000</td>\n",
       "      <td>17013</td>\n",
       "      <td>20016</td>\n",
       "    </tr>\n",
       "    <tr>\n",
       "      <th>2</th>\n",
       "      <td>20016.0</td>\n",
       "      <td>19945.566038</td>\n",
       "      <td>18515</td>\n",
       "      <td>20017</td>\n",
       "    </tr>\n",
       "    <tr>\n",
       "      <th>3</th>\n",
       "      <td>20016.0</td>\n",
       "      <td>19964.272727</td>\n",
       "      <td>18516</td>\n",
       "      <td>20017</td>\n",
       "    </tr>\n",
       "  </tbody>\n",
       "</table>\n",
       "</div>"
      ],
      "text/plain": [
       "            id                            \n",
       "        median          mean    min    max\n",
       "group                                     \n",
       "0      20016.0  19840.420000  18514  20017\n",
       "1      18515.0  19160.220000  17013  20016\n",
       "2      20016.0  19945.566038  18515  20017\n",
       "3      20016.0  19964.272727  18516  20017"
      ]
     },
     "execution_count": 13,
     "metadata": {},
     "output_type": "execute_result"
    }
   ],
   "source": [
    "df_count = df.groupby([\"id\", \"group\"])[[\"id\"]].count()\n",
    "df_count.groupby(\"group\").agg([\"median\", \"mean\",\"min\", \"max\"])"
   ]
  },
  {
   "attachments": {},
   "cell_type": "markdown",
   "metadata": {},
   "source": [
    "Print every case (is possible because of the small number of cases)"
   ]
  },
  {
   "cell_type": "code",
   "execution_count": 14,
   "metadata": {},
   "outputs": [
    {
     "data": {
      "text/html": [
       "<div>\n",
       "<style scoped>\n",
       "    .dataframe tbody tr th:only-of-type {\n",
       "        vertical-align: middle;\n",
       "    }\n",
       "\n",
       "    .dataframe tbody tr th {\n",
       "        vertical-align: top;\n",
       "    }\n",
       "\n",
       "    .dataframe thead tr th {\n",
       "        text-align: left;\n",
       "    }\n",
       "\n",
       "    .dataframe thead tr:last-of-type th {\n",
       "        text-align: right;\n",
       "    }\n",
       "</style>\n",
       "<table border=\"1\" class=\"dataframe\">\n",
       "  <thead>\n",
       "    <tr>\n",
       "      <th></th>\n",
       "      <th></th>\n",
       "      <th colspan=\"8\" halign=\"left\">timestamp</th>\n",
       "      <th colspan=\"8\" halign=\"left\">pressure</th>\n",
       "    </tr>\n",
       "    <tr>\n",
       "      <th></th>\n",
       "      <th></th>\n",
       "      <th>count</th>\n",
       "      <th>mean</th>\n",
       "      <th>std</th>\n",
       "      <th>min</th>\n",
       "      <th>25%</th>\n",
       "      <th>50%</th>\n",
       "      <th>75%</th>\n",
       "      <th>max</th>\n",
       "      <th>count</th>\n",
       "      <th>mean</th>\n",
       "      <th>std</th>\n",
       "      <th>min</th>\n",
       "      <th>25%</th>\n",
       "      <th>50%</th>\n",
       "      <th>75%</th>\n",
       "      <th>max</th>\n",
       "    </tr>\n",
       "    <tr>\n",
       "      <th>group</th>\n",
       "      <th>id</th>\n",
       "      <th></th>\n",
       "      <th></th>\n",
       "      <th></th>\n",
       "      <th></th>\n",
       "      <th></th>\n",
       "      <th></th>\n",
       "      <th></th>\n",
       "      <th></th>\n",
       "      <th></th>\n",
       "      <th></th>\n",
       "      <th></th>\n",
       "      <th></th>\n",
       "      <th></th>\n",
       "      <th></th>\n",
       "      <th></th>\n",
       "      <th></th>\n",
       "    </tr>\n",
       "  </thead>\n",
       "  <tbody>\n",
       "    <tr>\n",
       "      <th rowspan=\"5\" valign=\"top\">0</th>\n",
       "      <th>2</th>\n",
       "      <td>20017.0</td>\n",
       "      <td>14.795892</td>\n",
       "      <td>6.834668</td>\n",
       "      <td>0.0</td>\n",
       "      <td>9.02300</td>\n",
       "      <td>14.0280</td>\n",
       "      <td>22.10300</td>\n",
       "      <td>28.242</td>\n",
       "      <td>20017.0</td>\n",
       "      <td>0.958536</td>\n",
       "      <td>1.693917</td>\n",
       "      <td>0.0</td>\n",
       "      <td>0.0</td>\n",
       "      <td>0.0</td>\n",
       "      <td>0.00100</td>\n",
       "      <td>4.044</td>\n",
       "    </tr>\n",
       "    <tr>\n",
       "      <th>3</th>\n",
       "      <td>20016.0</td>\n",
       "      <td>12.746806</td>\n",
       "      <td>6.830863</td>\n",
       "      <td>0.0</td>\n",
       "      <td>6.97675</td>\n",
       "      <td>11.9805</td>\n",
       "      <td>20.04725</td>\n",
       "      <td>26.195</td>\n",
       "      <td>20016.0</td>\n",
       "      <td>0.957693</td>\n",
       "      <td>1.692398</td>\n",
       "      <td>0.0</td>\n",
       "      <td>0.0</td>\n",
       "      <td>0.0</td>\n",
       "      <td>0.00425</td>\n",
       "      <td>4.044</td>\n",
       "    </tr>\n",
       "    <tr>\n",
       "      <th>4</th>\n",
       "      <td>20016.0</td>\n",
       "      <td>13.529436</td>\n",
       "      <td>6.830994</td>\n",
       "      <td>0.0</td>\n",
       "      <td>7.75875</td>\n",
       "      <td>12.7635</td>\n",
       "      <td>20.83025</td>\n",
       "      <td>26.976</td>\n",
       "      <td>20016.0</td>\n",
       "      <td>0.957713</td>\n",
       "      <td>1.692462</td>\n",
       "      <td>0.0</td>\n",
       "      <td>0.0</td>\n",
       "      <td>0.0</td>\n",
       "      <td>0.00325</td>\n",
       "      <td>4.048</td>\n",
       "    </tr>\n",
       "    <tr>\n",
       "      <th>5</th>\n",
       "      <td>20016.0</td>\n",
       "      <td>13.360875</td>\n",
       "      <td>6.830144</td>\n",
       "      <td>0.0</td>\n",
       "      <td>7.59075</td>\n",
       "      <td>12.5955</td>\n",
       "      <td>20.65925</td>\n",
       "      <td>26.806</td>\n",
       "      <td>20016.0</td>\n",
       "      <td>0.958072</td>\n",
       "      <td>1.693294</td>\n",
       "      <td>0.0</td>\n",
       "      <td>0.0</td>\n",
       "      <td>0.0</td>\n",
       "      <td>0.00325</td>\n",
       "      <td>4.043</td>\n",
       "    </tr>\n",
       "    <tr>\n",
       "      <th>6</th>\n",
       "      <td>20016.0</td>\n",
       "      <td>13.134854</td>\n",
       "      <td>6.831706</td>\n",
       "      <td>0.0</td>\n",
       "      <td>7.36375</td>\n",
       "      <td>12.3685</td>\n",
       "      <td>20.43725</td>\n",
       "      <td>26.582</td>\n",
       "      <td>20016.0</td>\n",
       "      <td>0.958204</td>\n",
       "      <td>1.693363</td>\n",
       "      <td>0.0</td>\n",
       "      <td>0.0</td>\n",
       "      <td>0.0</td>\n",
       "      <td>0.00425</td>\n",
       "      <td>4.045</td>\n",
       "    </tr>\n",
       "    <tr>\n",
       "      <th>...</th>\n",
       "      <th>...</th>\n",
       "      <td>...</td>\n",
       "      <td>...</td>\n",
       "      <td>...</td>\n",
       "      <td>...</td>\n",
       "      <td>...</td>\n",
       "      <td>...</td>\n",
       "      <td>...</td>\n",
       "      <td>...</td>\n",
       "      <td>...</td>\n",
       "      <td>...</td>\n",
       "      <td>...</td>\n",
       "      <td>...</td>\n",
       "      <td>...</td>\n",
       "      <td>...</td>\n",
       "      <td>...</td>\n",
       "      <td>...</td>\n",
       "    </tr>\n",
       "    <tr>\n",
       "      <th rowspan=\"5\" valign=\"top\">3</th>\n",
       "      <th>178</th>\n",
       "      <td>20016.0</td>\n",
       "      <td>14.145261</td>\n",
       "      <td>6.889737</td>\n",
       "      <td>0.0</td>\n",
       "      <td>8.33475</td>\n",
       "      <td>13.3375</td>\n",
       "      <td>21.56925</td>\n",
       "      <td>27.775</td>\n",
       "      <td>20016.0</td>\n",
       "      <td>0.231829</td>\n",
       "      <td>0.406806</td>\n",
       "      <td>0.0</td>\n",
       "      <td>0.0</td>\n",
       "      <td>0.0</td>\n",
       "      <td>0.00025</td>\n",
       "      <td>0.966</td>\n",
       "    </tr>\n",
       "    <tr>\n",
       "      <th>179</th>\n",
       "      <td>20016.0</td>\n",
       "      <td>14.095688</td>\n",
       "      <td>6.888276</td>\n",
       "      <td>0.0</td>\n",
       "      <td>8.28575</td>\n",
       "      <td>13.2895</td>\n",
       "      <td>21.51625</td>\n",
       "      <td>27.720</td>\n",
       "      <td>20016.0</td>\n",
       "      <td>0.232490</td>\n",
       "      <td>0.408106</td>\n",
       "      <td>0.0</td>\n",
       "      <td>0.0</td>\n",
       "      <td>0.0</td>\n",
       "      <td>0.00125</td>\n",
       "      <td>0.974</td>\n",
       "    </tr>\n",
       "    <tr>\n",
       "      <th>180</th>\n",
       "      <td>20016.0</td>\n",
       "      <td>13.280497</td>\n",
       "      <td>6.889293</td>\n",
       "      <td>0.0</td>\n",
       "      <td>7.46975</td>\n",
       "      <td>12.4735</td>\n",
       "      <td>20.70425</td>\n",
       "      <td>26.910</td>\n",
       "      <td>20016.0</td>\n",
       "      <td>0.232178</td>\n",
       "      <td>0.407402</td>\n",
       "      <td>0.0</td>\n",
       "      <td>0.0</td>\n",
       "      <td>0.0</td>\n",
       "      <td>0.00200</td>\n",
       "      <td>0.978</td>\n",
       "    </tr>\n",
       "    <tr>\n",
       "      <th>196</th>\n",
       "      <td>20016.0</td>\n",
       "      <td>12.904630</td>\n",
       "      <td>6.888110</td>\n",
       "      <td>0.0</td>\n",
       "      <td>7.09475</td>\n",
       "      <td>12.0985</td>\n",
       "      <td>20.32525</td>\n",
       "      <td>26.529</td>\n",
       "      <td>20016.0</td>\n",
       "      <td>0.959125</td>\n",
       "      <td>1.694824</td>\n",
       "      <td>0.0</td>\n",
       "      <td>0.0</td>\n",
       "      <td>0.0</td>\n",
       "      <td>0.00125</td>\n",
       "      <td>4.012</td>\n",
       "    </tr>\n",
       "    <tr>\n",
       "      <th>197</th>\n",
       "      <td>20016.0</td>\n",
       "      <td>13.494507</td>\n",
       "      <td>6.889335</td>\n",
       "      <td>0.0</td>\n",
       "      <td>7.68375</td>\n",
       "      <td>12.6875</td>\n",
       "      <td>20.91825</td>\n",
       "      <td>27.121</td>\n",
       "      <td>20016.0</td>\n",
       "      <td>0.958072</td>\n",
       "      <td>1.692543</td>\n",
       "      <td>0.0</td>\n",
       "      <td>0.0</td>\n",
       "      <td>0.0</td>\n",
       "      <td>0.00100</td>\n",
       "      <td>4.008</td>\n",
       "    </tr>\n",
       "  </tbody>\n",
       "</table>\n",
       "<p>208 rows × 16 columns</p>\n",
       "</div>"
      ],
      "text/plain": [
       "          timestamp                                                        \\\n",
       "              count       mean       std  min      25%      50%       75%   \n",
       "group id                                                                    \n",
       "0     2     20017.0  14.795892  6.834668  0.0  9.02300  14.0280  22.10300   \n",
       "      3     20016.0  12.746806  6.830863  0.0  6.97675  11.9805  20.04725   \n",
       "      4     20016.0  13.529436  6.830994  0.0  7.75875  12.7635  20.83025   \n",
       "      5     20016.0  13.360875  6.830144  0.0  7.59075  12.5955  20.65925   \n",
       "      6     20016.0  13.134854  6.831706  0.0  7.36375  12.3685  20.43725   \n",
       "...             ...        ...       ...  ...      ...      ...       ...   \n",
       "3     178   20016.0  14.145261  6.889737  0.0  8.33475  13.3375  21.56925   \n",
       "      179   20016.0  14.095688  6.888276  0.0  8.28575  13.2895  21.51625   \n",
       "      180   20016.0  13.280497  6.889293  0.0  7.46975  12.4735  20.70425   \n",
       "      196   20016.0  12.904630  6.888110  0.0  7.09475  12.0985  20.32525   \n",
       "      197   20016.0  13.494507  6.889335  0.0  7.68375  12.6875  20.91825   \n",
       "\n",
       "                  pressure                                                     \n",
       "              max    count      mean       std  min  25%  50%      75%    max  \n",
       "group id                                                                       \n",
       "0     2    28.242  20017.0  0.958536  1.693917  0.0  0.0  0.0  0.00100  4.044  \n",
       "      3    26.195  20016.0  0.957693  1.692398  0.0  0.0  0.0  0.00425  4.044  \n",
       "      4    26.976  20016.0  0.957713  1.692462  0.0  0.0  0.0  0.00325  4.048  \n",
       "      5    26.806  20016.0  0.958072  1.693294  0.0  0.0  0.0  0.00325  4.043  \n",
       "      6    26.582  20016.0  0.958204  1.693363  0.0  0.0  0.0  0.00425  4.045  \n",
       "...           ...      ...       ...       ...  ...  ...  ...      ...    ...  \n",
       "3     178  27.775  20016.0  0.231829  0.406806  0.0  0.0  0.0  0.00025  0.966  \n",
       "      179  27.720  20016.0  0.232490  0.408106  0.0  0.0  0.0  0.00125  0.974  \n",
       "      180  26.910  20016.0  0.232178  0.407402  0.0  0.0  0.0  0.00200  0.978  \n",
       "      196  26.529  20016.0  0.959125  1.694824  0.0  0.0  0.0  0.00125  4.012  \n",
       "      197  27.121  20016.0  0.958072  1.692543  0.0  0.0  0.0  0.00100  4.008  \n",
       "\n",
       "[208 rows x 16 columns]"
      ]
     },
     "execution_count": 14,
     "metadata": {},
     "output_type": "execute_result"
    }
   ],
   "source": [
    "#pd.set_option('display.max_rows', None)\n",
    "df.groupby([\"group\", \"id\"]).describe()\n",
    "#pd.reset_option('display.max_rows')"
   ]
  },
  {
   "attachments": {},
   "cell_type": "markdown",
   "metadata": {},
   "source": [
    "Plot every sequence for each group"
   ]
  },
  {
   "cell_type": "code",
   "execution_count": 11,
   "metadata": {},
   "outputs": [
    {
     "data": {
      "text/plain": [
       "group\n",
       "0    [AxesSubplot(0.125,0.11;0.775x0.77)]\n",
       "1    [AxesSubplot(0.125,0.11;0.775x0.77)]\n",
       "2    [AxesSubplot(0.125,0.11;0.775x0.77)]\n",
       "3    [AxesSubplot(0.125,0.11;0.775x0.77)]\n",
       "dtype: object"
      ]
     },
     "execution_count": 11,
     "metadata": {},
     "output_type": "execute_result"
    },
    {
     "data": {
      "image/png": "[encoded data removed]",
      "text/plain": [
       "<Figure size 640x480 with 1 Axes>"
      ]
     },
     "metadata": {},
     "output_type": "display_data"
    },
    {
     "data": {
      "image/png": "[encoded data removed]",
      "text/plain": [
       "<Figure size 640x480 with 1 Axes>"
      ]
     },
     "metadata": {},
     "output_type": "display_data"
    },
    {
     "data": {
      "image/png": "[encoded data removed]",
      "text/plain": [
       "<Figure size 640x480 with 1 Axes>"
      ]
     },
     "metadata": {},
     "output_type": "display_data"
    },
    {
     "data": {
      "image/png": "[encoded data removed]",
      "text/plain": [
       "<Figure size 640x480 with 1 Axes>"
      ]
     },
     "metadata": {},
     "output_type": "display_data"
    }
   ],
   "source": [
    "df.groupby(\"group\").plot(x = \"timestamp\", y =\"pressure\",  xlabel=\"time in seconds\", ylabel=\"pressure\", subplots=True, legend=False)"
   ]
  },
  {
   "attachments": {},
   "cell_type": "markdown",
   "metadata": {},
   "source": [
    "## Split data"
   ]
  },
  {
   "cell_type": "code",
   "execution_count": 7,
   "metadata": {},
   "outputs": [
    {
     "name": "stdout",
     "output_type": "stream",
     "text": [
      "Number of training cases: 139\n",
      "Number of test cases: 69\n"
     ]
    }
   ],
   "source": [
    "# Quelle: https://stackoverflow.com/questions/54797508/how-to-generate-a-train-test-split-based-on-a-group-id\n",
    "train_inds, test_inds = next(GroupShuffleSplit(test_size=.33, n_splits=1, random_state = seed).split(df, groups=df[\"id\"]))\n",
    "train = df.iloc[train_inds]\n",
    "test = df.iloc[test_inds]\n",
    "\n",
    "print(\"Number of training cases:\", train[\"id\"].nunique())\n",
    "print(\"Number of test cases:\", test[\"id\"].nunique())"
   ]
  },
  {
   "attachments": {},
   "cell_type": "markdown",
   "metadata": {},
   "source": [
    "## Prepare data for sktime\n",
    "As we have seen before the length of our time series varies between cases. Most time series classification algorithms require equal-length time series. `sktime` offers various options to impute a time series, but because of the form of our data just padding the sequence at the beginning seems to be the appropriate solution.\n",
    "\n",
    "(At first I tried to use `keras` to build a prediction model, but ~200 cases did not lead to desirable results. That is why `keras` is used for padding the sequence.)"
   ]
  },
  {
   "cell_type": "code",
   "execution_count": 10,
   "metadata": {},
   "outputs": [
    {
     "data": {
      "text/plain": [
       "(139, 1, 20017)"
      ]
     },
     "execution_count": 10,
     "metadata": {},
     "output_type": "execute_result"
    }
   ],
   "source": [
    "# Create X and scale it\n",
    "mns = MinMaxScaler()\n",
    "df[[\"pressure\"]] = mns.fit_transform(df[[\"pressure\"]])\n",
    "\n",
    "X_train = train.groupby(\"id\")['pressure'].apply(list)\n",
    "X_test = test.groupby(\"id\")['pressure'].apply(list)\n",
    "\n",
    "# Padding sequence with keras\n",
    "X_train = keras.preprocessing.sequence.pad_sequences(X_train, dtype='float64', padding='pre', truncating='pre', maxlen=20017)\n",
    "X_test = keras.preprocessing.sequence.pad_sequences(X_test, dtype='float64', padding='pre', truncating='pre', maxlen=20017)\n",
    "\n",
    "# For some some reason sktime is not able to handle 2d numpy arrays. Easiest way forward is transforming to an 3d numpy array.\n",
    "X_train = X_train.reshape((X_train.shape[0], X_train.shape[1],1))\n",
    "X_test = X_test.reshape((X_test.shape[0], X_test.shape[1],1))\n",
    "\n",
    "X_train = X_train.reshape((X_train.shape[0],1, X_train.shape[1]))\n",
    "X_test = X_test.reshape((X_test.shape[0],1, X_test.shape[1]))"
   ]
  },
  {
   "attachments": {},
   "cell_type": "markdown",
   "metadata": {},
   "source": [
    "Create target variables"
   ]
  },
  {
   "cell_type": "code",
   "execution_count": 17,
   "metadata": {},
   "outputs": [],
   "source": [
    "y_train = train.groupby('id')['group'].unique().to_list()\n",
    "y_train = np.array(y_train).astype('int').astype('str').squeeze()\n",
    "\n",
    "y_test = test.groupby('id')['group'].unique().to_list()\n",
    "y_test = np.array(y_test).astype('int').astype('str').squeeze()\n",
    "\n",
    "y_train_binary = np.select([y_train == '2', y_train == '3'], ['1','1'], y_train)\n",
    "y_test_binary = np.select([y_test == '2', y_test == '3'], ['1','1'], y_test)"
   ]
  },
  {
   "attachments": {},
   "cell_type": "markdown",
   "metadata": {},
   "source": [
    "## Modelling data\n",
    "I use a times series classification algorithm called ROCKET and the newer version called miniROCKET.\n",
    "* https://pub.towardsai.net/rocket-fast-and-accurate-time-series-classification-f54923ad0ac9\n",
    "* https://github.com/timeseriesAI/tsai/blob/main/tutorial_nbs/10_Time_Series_Classification_and_Regression_with_MiniRocket.ipynb\n",
    "\n",
    "The original project was done with ROCKET and I added miniROCKET during the DSSGx application, to see how it performance. Moreover I am adding a dummy classifier for comparison.\n",
    "\n",
    "MiniRocket is able to use sequences of unequal length, but for simplicity we are using the padded sequence. I should to some benchmarking for equal vs unequal length."
   ]
  },
  {
   "attachments": {},
   "cell_type": "markdown",
   "metadata": {},
   "source": [
    "### Binary classification\n",
    "For the binary classification our data is imbalanced, but it is not severe enough to oversample the correct classifications or use something like SMOTE.\n",
    "\n",
    "#### Baseline"
   ]
  },
  {
   "cell_type": "code",
   "execution_count": 34,
   "metadata": {},
   "outputs": [
    {
     "data": {
      "text/plain": [
       "0.782608695652174"
      ]
     },
     "execution_count": 34,
     "metadata": {},
     "output_type": "execute_result"
    }
   ],
   "source": [
    "classifier = DummyClassifier(strategy=\"prior\")\n",
    "classifier.fit(X_train, y_train_binary)\n",
    "classifier.score(X_test, y_test_binary)"
   ]
  },
  {
   "attachments": {},
   "cell_type": "markdown",
   "metadata": {},
   "source": [
    "#### ROCKET"
   ]
  },
  {
   "cell_type": "code",
   "execution_count": 47,
   "metadata": {},
   "outputs": [],
   "source": [
    "rocket = Rocket()  # by default, ROCKET uses 10,000 kernels\n",
    "rocket.fit(X_train)\n",
    "X_train_transform = rocket.transform(X_train)\n",
    "\n",
    "classifier = RidgeClassifierCV(alphas=np.logspace(-3, 3, 10), normalize=True)"
   ]
  },
  {
   "cell_type": "code",
   "execution_count": 48,
   "metadata": {},
   "outputs": [
    {
     "name": "stderr",
     "output_type": "stream",
     "text": [
      "c:\\Users\\ystad\\GitHub\\dssgx-application\\time-series-classification\\rocket\\lib\\site-packages\\sklearn\\linear_model\\_base.py:141: FutureWarning: 'normalize' was deprecated in version 1.0 and will be removed in 1.2.\n",
      "If you wish to scale the data, use Pipeline with a StandardScaler in a preprocessing stage. To reproduce the previous behavior:\n",
      "\n",
      "from sklearn.pipeline import make_pipeline\n",
      "\n",
      "model = make_pipeline(StandardScaler(with_mean=False), _RidgeGCV())\n",
      "\n",
      "If you wish to pass a sample_weight parameter, you need to pass it as a fit parameter to each step of the pipeline as follows:\n",
      "\n",
      "kwargs = {s[0] + '__sample_weight': sample_weight for s in model.steps}\n",
      "model.fit(X, y, **kwargs)\n",
      "\n",
      "Set parameter alphas to: original_alphas * n_samples. \n",
      "  warnings.warn(\n"
     ]
    },
    {
     "data": {
      "text/plain": [
       "0.9565217391304348"
      ]
     },
     "execution_count": 48,
     "metadata": {},
     "output_type": "execute_result"
    }
   ],
   "source": [
    "classifier.fit(X_train_transform, y_train_binary)\n",
    "\n",
    "X_test_transform = rocket.transform(X_test)\n",
    "\n",
    "classifier.score(X_test_transform, y_test_binary)"
   ]
  },
  {
   "cell_type": "code",
   "execution_count": 49,
   "metadata": {},
   "outputs": [
    {
     "name": "stdout",
     "output_type": "stream",
     "text": [
      "              precision    recall  f1-score   support\n",
      "\n",
      "           0       1.00      0.83      0.91        18\n",
      "           1       0.94      1.00      0.97        51\n",
      "\n",
      "    accuracy                           0.96        69\n",
      "   macro avg       0.97      0.92      0.94        69\n",
      "weighted avg       0.96      0.96      0.96        69\n",
      "\n"
     ]
    }
   ],
   "source": [
    "y_pred = classifier.predict(X_test_transform)\n",
    "print(classification_report(y_pred,y_test_binary))"
   ]
  },
  {
   "cell_type": "code",
   "execution_count": 50,
   "metadata": {},
   "outputs": [
    {
     "name": "stderr",
     "output_type": "stream",
     "text": [
      "c:\\Users\\ystad\\GitHub\\dssgx-application\\time-series-classification\\rocket\\lib\\site-packages\\sklearn\\utils\\deprecation.py:87: FutureWarning: Function plot_confusion_matrix is deprecated; Function `plot_confusion_matrix` is deprecated in 1.0 and will be removed in 1.2. Use one of the class methods: ConfusionMatrixDisplay.from_predictions or ConfusionMatrixDisplay.from_estimator.\n",
      "  warnings.warn(msg, category=FutureWarning)\n"
     ]
    },
    {
     "data": {
      "text/plain": [
       "<sklearn.metrics._plot.confusion_matrix.ConfusionMatrixDisplay at 0x12d88d358d0>"
      ]
     },
     "execution_count": 50,
     "metadata": {},
     "output_type": "execute_result"
    },
    {
     "data": {
      "image/png": "[encoded data removed]",
      "text/plain": [
       "<Figure size 640x480 with 2 Axes>"
      ]
     },
     "metadata": {},
     "output_type": "display_data"
    }
   ],
   "source": [
    "plot_confusion_matrix(classifier,X_test_transform,y_test_binary)"
   ]
  },
  {
   "attachments": {},
   "cell_type": "markdown",
   "metadata": {},
   "source": [
    "#### miniROCKET"
   ]
  },
  {
   "cell_type": "code",
   "execution_count": 43,
   "metadata": {},
   "outputs": [],
   "source": [
    "minirocket = MiniRocket()  \n",
    "minirocket.fit(X_train)\n",
    "\n",
    "X_train_transform = minirocket.transform(X_train)\n",
    "X_train_transform.shape\n",
    "\n",
    "# Fit my classifier\n",
    "scaler = StandardScaler(with_mean=False)\n",
    "classifier = RidgeClassifierCV(alphas=np.logspace(-3, 3, 10))"
   ]
  },
  {
   "cell_type": "code",
   "execution_count": 44,
   "metadata": {},
   "outputs": [
    {
     "data": {
      "text/plain": [
       "0.927536231884058"
      ]
     },
     "execution_count": 44,
     "metadata": {},
     "output_type": "execute_result"
    }
   ],
   "source": [
    "X_train_scaled_transform = scaler.fit_transform(X_train_transform)\n",
    "classifier.fit(X_train_scaled_transform, y_train_binary)\n",
    "\n",
    "# Transform data\n",
    "X_test_transform = minirocket.transform(X_test)\n",
    "\n",
    "# Classify test data\n",
    "X_test_scaled_transform = scaler.transform(X_test_transform)\n",
    "classifier.score(X_test_scaled_transform, y_test_binary)"
   ]
  },
  {
   "cell_type": "code",
   "execution_count": 45,
   "metadata": {},
   "outputs": [
    {
     "name": "stdout",
     "output_type": "stream",
     "text": [
      "              precision    recall  f1-score   support\n",
      "\n",
      "           0       1.00      0.75      0.86        20\n",
      "           1       0.91      1.00      0.95        49\n",
      "\n",
      "    accuracy                           0.93        69\n",
      "   macro avg       0.95      0.88      0.90        69\n",
      "weighted avg       0.93      0.93      0.92        69\n",
      "\n"
     ]
    }
   ],
   "source": [
    "y_pred = classifier.predict(X_test_scaled_transform)\n",
    "print(classification_report(y_pred,y_test_binary))"
   ]
  },
  {
   "cell_type": "code",
   "execution_count": 46,
   "metadata": {},
   "outputs": [
    {
     "name": "stderr",
     "output_type": "stream",
     "text": [
      "c:\\Users\\ystad\\GitHub\\dssgx-application\\time-series-classification\\rocket\\lib\\site-packages\\sklearn\\utils\\deprecation.py:87: FutureWarning: Function plot_confusion_matrix is deprecated; Function `plot_confusion_matrix` is deprecated in 1.0 and will be removed in 1.2. Use one of the class methods: ConfusionMatrixDisplay.from_predictions or ConfusionMatrixDisplay.from_estimator.\n",
      "  warnings.warn(msg, category=FutureWarning)\n"
     ]
    },
    {
     "data": {
      "text/plain": [
       "<sklearn.metrics._plot.confusion_matrix.ConfusionMatrixDisplay at 0x12dbf1ed2d0>"
      ]
     },
     "execution_count": 46,
     "metadata": {},
     "output_type": "execute_result"
    },
    {
     "data": {
      "image/png": "[encoded data removed]",
      "text/plain": [
       "<Figure size 640x480 with 2 Axes>"
      ]
     },
     "metadata": {},
     "output_type": "display_data"
    }
   ],
   "source": [
    "plot_confusion_matrix(classifier,X_test_scaled_transform,y_test_binary)"
   ]
  },
  {
   "attachments": {},
   "cell_type": "markdown",
   "metadata": {},
   "source": [
    "### Classification with all four classes\n",
    "For that we just redo the models from above but we use the non-binary y"
   ]
  },
  {
   "attachments": {},
   "cell_type": "markdown",
   "metadata": {},
   "source": [
    "### Baseline"
   ]
  },
  {
   "cell_type": "code",
   "execution_count": 32,
   "metadata": {},
   "outputs": [
    {
     "data": {
      "text/plain": [
       "0.2318840579710145"
      ]
     },
     "execution_count": 32,
     "metadata": {},
     "output_type": "execute_result"
    }
   ],
   "source": [
    "classifier = DummyClassifier(strategy=\"prior\")\n",
    "classifier.fit(X_train, y_train)\n",
    "classifier.score(X_test, y_test)"
   ]
  },
  {
   "attachments": {},
   "cell_type": "markdown",
   "metadata": {},
   "source": [
    "### ROCKET"
   ]
  },
  {
   "cell_type": "code",
   "execution_count": 39,
   "metadata": {},
   "outputs": [],
   "source": [
    "rocket = Rocket()  # by default, ROCKET uses 10,000 kernels\n",
    "rocket.fit(X_train)\n",
    "X_train_transform = rocket.transform(X_train)\n",
    "\n",
    "classifier = RidgeClassifierCV(alphas=np.logspace(-3, 3, 10), normalize=True)"
   ]
  },
  {
   "cell_type": "code",
   "execution_count": 40,
   "metadata": {},
   "outputs": [
    {
     "name": "stderr",
     "output_type": "stream",
     "text": [
      "c:\\Users\\ystad\\GitHub\\dssgx-application\\time-series-classification\\rocket\\lib\\site-packages\\sklearn\\linear_model\\_base.py:141: FutureWarning: 'normalize' was deprecated in version 1.0 and will be removed in 1.2.\n",
      "If you wish to scale the data, use Pipeline with a StandardScaler in a preprocessing stage. To reproduce the previous behavior:\n",
      "\n",
      "from sklearn.pipeline import make_pipeline\n",
      "\n",
      "model = make_pipeline(StandardScaler(with_mean=False), _RidgeGCV())\n",
      "\n",
      "If you wish to pass a sample_weight parameter, you need to pass it as a fit parameter to each step of the pipeline as follows:\n",
      "\n",
      "kwargs = {s[0] + '__sample_weight': sample_weight for s in model.steps}\n",
      "model.fit(X, y, **kwargs)\n",
      "\n",
      "Set parameter alphas to: original_alphas * n_samples. \n",
      "  warnings.warn(\n"
     ]
    },
    {
     "data": {
      "text/plain": [
       "0.9130434782608695"
      ]
     },
     "execution_count": 40,
     "metadata": {},
     "output_type": "execute_result"
    }
   ],
   "source": [
    "classifier.fit(X_train_transform, y_train)\n",
    "\n",
    "X_test_transform = rocket.transform(X_test)\n",
    "\n",
    "classifier.score(X_test_transform, y_test)"
   ]
  },
  {
   "cell_type": "code",
   "execution_count": 41,
   "metadata": {},
   "outputs": [
    {
     "name": "stdout",
     "output_type": "stream",
     "text": [
      "              precision    recall  f1-score   support\n",
      "\n",
      "           0       0.93      0.82      0.87        17\n",
      "           1       1.00      0.85      0.92        20\n",
      "           2       0.86      1.00      0.92        18\n",
      "           3       0.88      1.00      0.93        14\n",
      "\n",
      "    accuracy                           0.91        69\n",
      "   macro avg       0.92      0.92      0.91        69\n",
      "weighted avg       0.92      0.91      0.91        69\n",
      "\n"
     ]
    }
   ],
   "source": [
    "y_pred = classifier.predict(X_test_transform)\n",
    "print(classification_report(y_pred,y_test))"
   ]
  },
  {
   "cell_type": "code",
   "execution_count": 42,
   "metadata": {},
   "outputs": [
    {
     "name": "stderr",
     "output_type": "stream",
     "text": [
      "c:\\Users\\ystad\\GitHub\\dssgx-application\\time-series-classification\\rocket\\lib\\site-packages\\sklearn\\utils\\deprecation.py:87: FutureWarning: Function plot_confusion_matrix is deprecated; Function `plot_confusion_matrix` is deprecated in 1.0 and will be removed in 1.2. Use one of the class methods: ConfusionMatrixDisplay.from_predictions or ConfusionMatrixDisplay.from_estimator.\n",
      "  warnings.warn(msg, category=FutureWarning)\n"
     ]
    },
    {
     "data": {
      "text/plain": [
       "<sklearn.metrics._plot.confusion_matrix.ConfusionMatrixDisplay at 0x12d88d61120>"
      ]
     },
     "execution_count": 42,
     "metadata": {},
     "output_type": "execute_result"
    },
    {
     "data": {
      "image/png": "[encoded data removed]",
      "text/plain": [
       "<Figure size 640x480 with 2 Axes>"
      ]
     },
     "metadata": {},
     "output_type": "display_data"
    }
   ],
   "source": [
    "plot_confusion_matrix(classifier,X_test_transform,y_test)"
   ]
  },
  {
   "attachments": {},
   "cell_type": "markdown",
   "metadata": {},
   "source": [
    "### miniROCKET"
   ]
  },
  {
   "cell_type": "code",
   "execution_count": 35,
   "metadata": {},
   "outputs": [],
   "source": [
    "minirocket = MiniRocket()  \n",
    "minirocket.fit(X_train)\n",
    "\n",
    "X_train_transform = minirocket.transform(X_train)\n",
    "X_train_transform.shape\n",
    "\n",
    "# Fit my classifier\n",
    "scaler = StandardScaler(with_mean=False)\n",
    "classifier = RidgeClassifierCV(alphas=np.logspace(-3, 3, 10))"
   ]
  },
  {
   "cell_type": "code",
   "execution_count": 36,
   "metadata": {},
   "outputs": [
    {
     "data": {
      "text/plain": [
       "0.8695652173913043"
      ]
     },
     "execution_count": 36,
     "metadata": {},
     "output_type": "execute_result"
    }
   ],
   "source": [
    "X_train_scaled_transform = scaler.fit_transform(X_train_transform)\n",
    "classifier.fit(X_train_scaled_transform, y_train)\n",
    "\n",
    "# Transform data\n",
    "X_test_transform = minirocket.transform(X_test)\n",
    "\n",
    "# Classify test data\n",
    "X_test_scaled_transform = scaler.transform(X_test_transform)\n",
    "classifier.score(X_test_scaled_transform, y_test)"
   ]
  },
  {
   "cell_type": "code",
   "execution_count": 37,
   "metadata": {},
   "outputs": [
    {
     "name": "stdout",
     "output_type": "stream",
     "text": [
      "              precision    recall  f1-score   support\n",
      "\n",
      "           0       0.93      0.74      0.82        19\n",
      "           1       0.82      0.93      0.87        15\n",
      "           2       0.81      1.00      0.89        17\n",
      "           3       0.94      0.83      0.88        18\n",
      "\n",
      "    accuracy                           0.87        69\n",
      "   macro avg       0.88      0.88      0.87        69\n",
      "weighted avg       0.88      0.87      0.87        69\n",
      "\n"
     ]
    }
   ],
   "source": [
    "y_pred = classifier.predict(X_test_scaled_transform)\n",
    "print(classification_report(y_pred,y_test))"
   ]
  },
  {
   "cell_type": "code",
   "execution_count": 38,
   "metadata": {},
   "outputs": [
    {
     "name": "stderr",
     "output_type": "stream",
     "text": [
      "c:\\Users\\ystad\\GitHub\\dssgx-application\\time-series-classification\\rocket\\lib\\site-packages\\sklearn\\utils\\deprecation.py:87: FutureWarning: Function plot_confusion_matrix is deprecated; Function `plot_confusion_matrix` is deprecated in 1.0 and will be removed in 1.2. Use one of the class methods: ConfusionMatrixDisplay.from_predictions or ConfusionMatrixDisplay.from_estimator.\n",
      "  warnings.warn(msg, category=FutureWarning)\n"
     ]
    },
    {
     "data": {
      "text/plain": [
       "<sklearn.metrics._plot.confusion_matrix.ConfusionMatrixDisplay at 0x12d80252740>"
      ]
     },
     "execution_count": 38,
     "metadata": {},
     "output_type": "execute_result"
    },
    {
     "data": {
      "image/png": "[encoded data removed]",
      "text/plain": [
       "<Figure size 640x480 with 2 Axes>"
      ]
     },
     "metadata": {},
     "output_type": "display_data"
    }
   ],
   "source": [
    "plot_confusion_matrix(classifier,X_test_scaled_transform,y_test)"
   ]
  }
 ],
 "metadata": {
  "kernelspec": {
   "display_name": "rocket",
   "language": "python",
   "name": "rocket"
  },
  "language_info": {
   "codemirror_mode": {
    "name": "ipython",
    "version": 3
   },
   "file_extension": ".py",
   "mimetype": "text/x-python",
   "name": "python",
   "nbconvert_exporter": "python",
   "pygments_lexer": "ipython3",
   "version": "3.10.9"
  },
  "orig_nbformat": 4,
  "vscode": {
   "interpreter": {
    "hash": "36a1f04a528e34c3a34b10b10b24fa3b05a565db7b31cccd8b08629be55fd624"
   }
  }
 },
 "nbformat": 4,
 "nbformat_minor": 2
}
